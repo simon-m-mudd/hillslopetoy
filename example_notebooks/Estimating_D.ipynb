{
 "cells": [
  {
   "cell_type": "markdown",
   "metadata": {},
   "source": [
    "# How well can we estimate diffusivity?"
   ]
  },
  {
   "cell_type": "markdown",
   "metadata": {},
   "source": [
    "This notebook explores how well we can estimate the diffusion coefficient."
   ]
  },
  {
   "cell_type": "markdown",
   "metadata": {},
   "source": [
    "Hillslope theory suggests that the hilltop curvature is proportaional to the erosion rate (in steady state landscapes this is the same as the uplift rate), inversly proportional to the transport coefficient, D, and the ration between soil and rock density (derived from Roering et al 2007 equation 4):\n",
    "\n",
    "$C_{HT} = -\\frac{E}{D} \\frac{\\rho_r}{\\rho_s}$\n",
    "\n",
    "\n",
    "\n",
    "The hillslope toy calcualtes the curvature analytically from the hillslope euqations, and it can also fit a discrete version of the ridgetop with a polynomial and calucalte the curvature from this fit curve. Here is the syntax:"
   ]
  },
  {
   "cell_type": "code",
   "execution_count": 1,
   "metadata": {},
   "outputs": [],
   "source": [
    "import hillslopetoy as ht\n",
    "import matplotlib.pyplot as plt"
   ]
  },
  {
   "cell_type": "code",
   "execution_count": 2,
   "metadata": {},
   "outputs": [
    {
     "name": "stdout",
     "output_type": "stream",
     "text": [
      "Calculating curvature from input parameters: -0.8\n",
      "The analytical curvature from the the hillslope toy is: -0.8 and the fit curvature is: -0.23266322682821036\n"
     ]
    }
   ],
   "source": [
    "x = ht.set_profile_locations_half_length(half_length = 6,spacing = 1)\n",
    "\n",
    "Uplift = 0.0004\n",
    "Transport_coefficient = 0.001\n",
    "Critical_slope = 1\n",
    "Density_ratio = 2\n",
    "z = ht.ss_nonlinear_elevation(x,S_c = Critical_slope,C_0 = Uplift ,D = Transport_coefficient ,rho_ratio = Density_ratio ,c =20)\n",
    "z = ht.set_channel_to_zero(z)\n",
    "\n",
    "C_direct = -(Uplift/Transport_coefficient)*(Density_ratio)\n",
    "print(\"Calculating curvature from input parameters: \"+ str(C_direct))\n",
    "\n",
    "# This is the analytical solution:\n",
    "Curv_analytical = ht.ss_nonlinear_hilltop_curvature(C_0 = Uplift, D = Transport_coefficient, rho_ratio =Density_ratio)\n",
    "\n",
    "# This is the polynomial fit:\n",
    "Curv_fit = ht.fit_hilltop_curvature(x,z)\n",
    "\n",
    "print(\"The analytical curvature from the the hillslope toy is: \" + str(Curv_analytical)+ \" and the fit curvature is: \" + str(Curv_fit))"
   ]
  },
  {
   "cell_type": "markdown",
   "metadata": {},
   "source": [
    "It the uplift rate is really fast, the fit curvature will not do well to match the analytical curvature:"
   ]
  },
  {
   "cell_type": "code",
   "execution_count": 3,
   "metadata": {},
   "outputs": [
    {
     "name": "stdout",
     "output_type": "stream",
     "text": [
      "Calculating curvature from input parameters: -2.0\n",
      "The analytical curvature from the the hillslope toy is: -2.0 and the fit curvature is: -0.26490049614820943\n"
     ]
    }
   ],
   "source": [
    "x = ht.set_profile_locations_half_length(half_length = 6,spacing = 1)\n",
    "\n",
    "Uplift = 0.001\n",
    "Transport_coefficient = 0.001\n",
    "Critical_slope = 1\n",
    "Density_ratio = 2\n",
    "z = ht.ss_nonlinear_elevation(x,S_c = Critical_slope,C_0 = Uplift ,D = Transport_coefficient ,rho_ratio = Density_ratio ,c =20)\n",
    "z = ht.set_channel_to_zero(z)\n",
    "\n",
    "C_direct = -(Uplift/Transport_coefficient)*(Density_ratio)\n",
    "print(\"Calculating curvature from input parameters: \"+ str(C_direct))\n",
    "\n",
    "# This is the analytical solution:\n",
    "Curv_analytical = ht.ss_nonlinear_hilltop_curvature(C_0 = Uplift, D = Transport_coefficient, rho_ratio =Density_ratio)\n",
    "\n",
    "# This is the polynomial fit:\n",
    "Curv_fit = ht.fit_hilltop_curvature(x,z)\n",
    "\n",
    "print(\"The analytical curvature from the the hillslope toy is: \" + str(Curv_analytical)+ \" and the fit curvature is: \" + str(Curv_fit))"
   ]
  },
  {
   "cell_type": "markdown",
   "metadata": {},
   "source": [
    "You can also get differences for moderate uplift rates but very inefficient transport coefficients"
   ]
  },
  {
   "cell_type": "code",
   "execution_count": 4,
   "metadata": {},
   "outputs": [
    {
     "name": "stdout",
     "output_type": "stream",
     "text": [
      "Calculating curvature from input parameters: -4.0\n",
      "The analytical curvature from the the hillslope toy is: -4.0 and the fit curvature is: -0.27788597825736505\n"
     ]
    }
   ],
   "source": [
    "x = ht.set_profile_locations_half_length(half_length = 6,spacing = 1)\n",
    "\n",
    "Uplift = 0.0002\n",
    "Transport_coefficient = 0.0001\n",
    "Critical_slope = 1\n",
    "Density_ratio = 2\n",
    "z = ht.ss_nonlinear_elevation(x,S_c = Critical_slope,C_0 = Uplift ,D = Transport_coefficient ,rho_ratio = Density_ratio ,c =20)\n",
    "z = ht.set_channel_to_zero(z)\n",
    "\n",
    "C_direct = -(Uplift/Transport_coefficient)*(Density_ratio)\n",
    "print(\"Calculating curvature from input parameters: \"+ str(C_direct))\n",
    "\n",
    "# This is the analytical solution:\n",
    "Curv_analytical = ht.ss_nonlinear_hilltop_curvature(C_0 = Uplift, D = Transport_coefficient, rho_ratio =Density_ratio)\n",
    "\n",
    "# This is the polynomial fit:\n",
    "Curv_fit = ht.fit_hilltop_curvature(x,z)\n",
    "\n",
    "print(\"The analytical curvature from the the hillslope toy is: \" + str(Curv_analytical)+ \" and the fit curvature is: \" + str(Curv_fit))"
   ]
  },
  {
   "cell_type": "markdown",
   "metadata": {},
   "source": [
    "## Lets look at some actual data"
   ]
  },
  {
   "cell_type": "markdown",
   "metadata": {},
   "source": [
    "Start with the Blue Ridge in Virginia. The transpot coefficent can be calculated using (this is equation 4 in Roering et al 2007)"
   ]
  },
  {
   "cell_type": "markdown",
   "metadata": {},
   "source": [
    "$D = -\\frac{E}{C_{HT}} \\frac{\\rho_r}{\\rho_s}$"
   ]
  },
  {
   "cell_type": "code",
   "execution_count": 5,
   "metadata": {},
   "outputs": [
    {
     "name": "stdout",
     "output_type": "stream",
     "text": [
      "The transport coefficient is: 0.0033069734004313443 m^2/yr\n",
      "In cm^2 per year it is: 33.069734004313446\n"
     ]
    }
   ],
   "source": [
    "E = 0.000023    # This is in m/yr\n",
    "C_HT = -0.01391      # this in 1/m\n",
    "Critical_slope = 1\n",
    "Density_ratio = 2\n",
    "\n",
    "Transport_coefficient = -(E/C_HT)*Density_ratio\n",
    "\n",
    "print(\"The transport coefficient is: \"+str(Transport_coefficient)+\" m^2/yr\")\n",
    "print(\"In cm^2 per year it is: \"+ str(Transport_coefficient*10000))"
   ]
  },
  {
   "cell_type": "markdown",
   "metadata": {},
   "source": [
    "These data are the same as in our table 1 (sample ID SH-01a) \n",
    "\n",
    "How far off would a fit curvature be to this?"
   ]
  },
  {
   "cell_type": "code",
   "execution_count": 6,
   "metadata": {},
   "outputs": [
    {
     "name": "stdout",
     "output_type": "stream",
     "text": [
      "Calculating curvature from input parameters: -0.01391\n",
      "The analytical curvature from the the hillslope toy is: -0.01391 and the fit curvature is: -0.01386292749912156\n"
     ]
    }
   ],
   "source": [
    "x = ht.set_profile_locations_half_length(half_length = 6,spacing = 1)\n",
    "\n",
    "Uplift = 0.000023\n",
    "Transport_coefficient = 0.0033069734004313443\n",
    "Critical_slope = 1\n",
    "Density_ratio = 2\n",
    "z = ht.ss_nonlinear_elevation(x,S_c = Critical_slope,C_0 = Uplift ,D = Transport_coefficient ,rho_ratio = Density_ratio ,c =20)\n",
    "z = ht.set_channel_to_zero(z)\n",
    "\n",
    "C_direct = -(Uplift/Transport_coefficient)*(Density_ratio)\n",
    "print(\"Calculating curvature from input parameters: \"+ str(C_direct))\n",
    "\n",
    "# This is the analytical solution:\n",
    "Curv_analytical = ht.ss_nonlinear_hilltop_curvature(C_0 = Uplift, D = Transport_coefficient, rho_ratio =Density_ratio)\n",
    "\n",
    "# This is the polynomial fit:\n",
    "Curv_fit = ht.fit_hilltop_curvature(x,z)\n",
    "\n",
    "print(\"The analytical curvature from the the hillslope toy is: \" + str(Curv_analytical)+ \" and the fit curvature is: \" + str(Curv_fit))"
   ]
  },
  {
   "cell_type": "markdown",
   "metadata": {},
   "source": [
    "Lets try to find a sample with a curvature that either has a fast erosion rate or a high diffusivity (where we might be underestimating the curvature)"
   ]
  },
  {
   "cell_type": "code",
   "execution_count": 7,
   "metadata": {},
   "outputs": [
    {
     "name": "stdout",
     "output_type": "stream",
     "text": [
      "The transport coefficient is: 0.006648416112631991 m^2/yr\n",
      "In cm^2 per year it is: 66.48416112631992\n"
     ]
    }
   ],
   "source": [
    "# Sample BEAN-7 from feather river\n",
    "E = 0.000085    # This is in m/yr\n",
    "C_HT = -0.02557      # this in 1/m\n",
    "Critical_slope = 1\n",
    "Density_ratio = 2\n",
    "\n",
    "Transport_coefficient = -(E/C_HT)*Density_ratio\n",
    "\n",
    "print(\"The transport coefficient is: \"+str(Transport_coefficient)+\" m^2/yr\")\n",
    "print(\"In cm^2 per year it is: \"+ str(Transport_coefficient*10000))"
   ]
  },
  {
   "cell_type": "code",
   "execution_count": 8,
   "metadata": {},
   "outputs": [
    {
     "name": "stdout",
     "output_type": "stream",
     "text": [
      "Calculating curvature from input parameters: -0.02557\n",
      "The analytical curvature from the the hillslope toy is: -0.02557 and the fit curvature is: -0.02528344215054842\n"
     ]
    }
   ],
   "source": [
    "x = ht.set_profile_locations_half_length(half_length = 6,spacing = 1)\n",
    "\n",
    "Uplift = 0.000085\n",
    "Transport_coefficient = 0.006648416112631991\n",
    "Critical_slope = 1\n",
    "Density_ratio = 2\n",
    "z = ht.ss_nonlinear_elevation(x,S_c = Critical_slope,C_0 = Uplift ,D = Transport_coefficient ,rho_ratio = Density_ratio ,c =20)\n",
    "z = ht.set_channel_to_zero(z)\n",
    "\n",
    "C_direct = -(Uplift/Transport_coefficient)*(Density_ratio)\n",
    "print(\"Calculating curvature from input parameters: \"+ str(C_direct))\n",
    "\n",
    "# This is the analytical solution:\n",
    "Curv_analytical = ht.ss_nonlinear_hilltop_curvature(C_0 = Uplift, D = Transport_coefficient, rho_ratio =Density_ratio)\n",
    "\n",
    "# This is the polynomial fit:\n",
    "Curv_fit = ht.fit_hilltop_curvature(x,z)\n",
    "\n",
    "print(\"The analytical curvature from the the hillslope toy is: \" + str(Curv_analytical)+ \" and the fit curvature is: \" + str(Curv_fit))"
   ]
  },
  {
   "cell_type": "markdown",
   "metadata": {},
   "source": [
    "Here is the sample in our dataset with the greatest negative curvature excluding the Yucaipa Ridge data "
   ]
  },
  {
   "cell_type": "code",
   "execution_count": 9,
   "metadata": {},
   "outputs": [
    {
     "name": "stdout",
     "output_type": "stream",
     "text": [
      "The transport coefficient is: 0.002809848379468633 m^2/yr\n",
      "In cm^2 per year it is: 28.09848379468633\n"
     ]
    }
   ],
   "source": [
    "# Sample S2 from the Idaho Plateau\n",
    "E = 0.000101    # This is in m/yr\n",
    "C_HT = -0.07189      # this in 1/m\n",
    "Critical_slope = 1\n",
    "Density_ratio = 2\n",
    "\n",
    "Transport_coefficient = -(E/C_HT)*Density_ratio\n",
    "\n",
    "print(\"The transport coefficient is: \"+str(Transport_coefficient)+\" m^2/yr\")\n",
    "print(\"In cm^2 per year it is: \"+ str(Transport_coefficient*10000))"
   ]
  },
  {
   "cell_type": "code",
   "execution_count": 10,
   "metadata": {},
   "outputs": [
    {
     "name": "stdout",
     "output_type": "stream",
     "text": [
      "Calculating curvature from input parameters: -0.07189\n",
      "The analytical curvature from the the hillslope toy is: -0.07189 and the fit curvature is: -0.06650328784909763\n"
     ]
    }
   ],
   "source": [
    "x = ht.set_profile_locations_half_length(half_length = 6,spacing = 1)\n",
    "\n",
    "Uplift = 0.000101\n",
    "Transport_coefficient = 0.002809848379468633\n",
    "Critical_slope = 1\n",
    "Density_ratio = 2\n",
    "z = ht.ss_nonlinear_elevation(x,S_c = Critical_slope,C_0 = Uplift ,D = Transport_coefficient ,rho_ratio = Density_ratio ,c =20)\n",
    "z = ht.set_channel_to_zero(z)\n",
    "\n",
    "C_direct = -(Uplift/Transport_coefficient)*(Density_ratio)\n",
    "print(\"Calculating curvature from input parameters: \"+ str(C_direct))\n",
    "\n",
    "# This is the analytical solution:\n",
    "Curv_analytical = ht.ss_nonlinear_hilltop_curvature(C_0 = Uplift, D = Transport_coefficient, rho_ratio =Density_ratio)\n",
    "\n",
    "# This is the polynomial fit:\n",
    "Curv_fit = ht.fit_hilltop_curvature(x,z)\n",
    "\n",
    "print(\"The analytical curvature from the the hillslope toy is: \" + str(Curv_analytical)+ \" and the fit curvature is: \" + str(Curv_fit))"
   ]
  },
  {
   "cell_type": "markdown",
   "metadata": {},
   "source": [
    "And now for Yucaipa Ridge. Here is the one with a very high apparent transport coefficient"
   ]
  },
  {
   "cell_type": "code",
   "execution_count": 11,
   "metadata": {},
   "outputs": [
    {
     "name": "stdout",
     "output_type": "stream",
     "text": [
      "The transport coefficient is: 0.02281331188915007 m^2/yr\n",
      "In cm^2 per year it is: 228.1331188915007\n"
     ]
    }
   ],
   "source": [
    "# Sample 3 from the Yucaipa Ridge\n",
    "E = 0.000922    # This is in m/yr\n",
    "C_HT = -0.08083      # this in 1/m\n",
    "Critical_slope = 1\n",
    "Density_ratio = 2\n",
    "\n",
    "Transport_coefficient = -(E/C_HT)*Density_ratio\n",
    "\n",
    "print(\"The transport coefficient is: \"+str(Transport_coefficient)+\" m^2/yr\")\n",
    "print(\"In cm^2 per year it is: \"+ str(Transport_coefficient*10000))"
   ]
  },
  {
   "cell_type": "code",
   "execution_count": 12,
   "metadata": {},
   "outputs": [
    {
     "name": "stdout",
     "output_type": "stream",
     "text": [
      "Calculating curvature from input parameters: -0.08083\n",
      "The analytical curvature from the the hillslope toy is: -0.08083 and the fit curvature is: -0.07349272883821777\n"
     ]
    }
   ],
   "source": [
    "x = ht.set_profile_locations_half_length(half_length = 6,spacing = 1)\n",
    "\n",
    "# This is from Yucaipa Ridge\n",
    "Uplift = 0.000922\n",
    "Transport_coefficient = 0.02281331188915007\n",
    "Critical_slope = 1\n",
    "Density_ratio = 2\n",
    "z = ht.ss_nonlinear_elevation(x,S_c = Critical_slope,C_0 = Uplift ,D = Transport_coefficient ,rho_ratio = Density_ratio ,c =20)\n",
    "z = ht.set_channel_to_zero(z)\n",
    "\n",
    "C_direct = -(Uplift/Transport_coefficient)*(Density_ratio)\n",
    "print(\"Calculating curvature from input parameters: \"+ str(C_direct))\n",
    "\n",
    "# This is the analytical solution:\n",
    "Curv_analytical = ht.ss_nonlinear_hilltop_curvature(C_0 = Uplift, D = Transport_coefficient, rho_ratio =Density_ratio)\n",
    "\n",
    "# This is the polynomial fit:\n",
    "Curv_fit = ht.fit_hilltop_curvature(x,z)\n",
    "\n",
    "print(\"The analytical curvature from the the hillslope toy is: \" + str(Curv_analytical)+ \" and the fit curvature is: \" + str(Curv_fit))"
   ]
  },
  {
   "cell_type": "markdown",
   "metadata": {},
   "source": [
    "Does the fitting window make a difference?"
   ]
  },
  {
   "cell_type": "code",
   "execution_count": 13,
   "metadata": {},
   "outputs": [
    {
     "name": "stdout",
     "output_type": "stream",
     "text": [
      "Calculating curvature from input parameters: -0.08083\n",
      "The analytical curvature from the the hillslope toy is: -0.08083 and the fit curvature is: -0.07699237547979434\n"
     ]
    }
   ],
   "source": [
    "x = ht.set_profile_locations_half_length(half_length = 4,spacing = 1)\n",
    "\n",
    "Uplift = 0.000922\n",
    "Transport_coefficient = 0.02281331188915007\n",
    "Critical_slope = 1\n",
    "Density_ratio = 2\n",
    "z = ht.ss_nonlinear_elevation(x,S_c = Critical_slope,C_0 = Uplift ,D = Transport_coefficient ,rho_ratio = Density_ratio ,c =20)\n",
    "z = ht.set_channel_to_zero(z)\n",
    "\n",
    "C_direct = -(Uplift/Transport_coefficient)*(Density_ratio)\n",
    "print(\"Calculating curvature from input parameters: \"+ str(C_direct))\n",
    "\n",
    "# This is the analytical solution:\n",
    "Curv_analytical = ht.ss_nonlinear_hilltop_curvature(C_0 = Uplift, D = Transport_coefficient, rho_ratio =Density_ratio)\n",
    "\n",
    "# This is the polynomial fit:\n",
    "Curv_fit = ht.fit_hilltop_curvature(x,z)\n",
    "\n",
    "print(\"The analytical curvature from the the hillslope toy is: \" + str(Curv_analytical)+ \" and the fit curvature is: \" + str(Curv_fit))"
   ]
  },
  {
   "cell_type": "markdown",
   "metadata": {},
   "source": [
    "Not really. "
   ]
  },
  {
   "cell_type": "markdown",
   "metadata": {},
   "source": [
    "## What about assuming a constant D value and seeing how bad the curvature is off, like in the Struble et al paper?"
   ]
  },
  {
   "cell_type": "code",
   "execution_count": 16,
   "metadata": {},
   "outputs": [
    {
     "name": "stdout",
     "output_type": "stream",
     "text": [
      "Calculating curvature from input parameters: -0.6146666666666666\n",
      "The analytical curvature from the the hillslope toy is: -0.6146666666666666 and the fit curvature is: -0.286135721428344\n"
     ]
    }
   ],
   "source": [
    "Uplift = 0.000922\n",
    "Transport_coefficient = 0.003\n",
    "Critical_slope = 1\n",
    "Density_ratio = 2\n",
    "z = ht.ss_nonlinear_elevation(x,S_c = Critical_slope,C_0 = Uplift ,D = Transport_coefficient ,rho_ratio = Density_ratio ,c =20)\n",
    "z = ht.set_channel_to_zero(z)\n",
    "C_direct = -(Uplift/Transport_coefficient)*(Density_ratio)\n",
    "print(\"Calculating curvature from input parameters: \"+ str(C_direct))\n",
    "\n",
    "# This is the analytical solution:\n",
    "Curv_analytical = ht.ss_nonlinear_hilltop_curvature(C_0 = Uplift, D = Transport_coefficient, rho_ratio =Density_ratio)\n",
    "\n",
    "# This is the polynomial fit:\n",
    "Curv_fit = ht.fit_hilltop_curvature(x,z)\n",
    "\n",
    "print(\"The analytical curvature from the the hillslope toy is: \" + str(Curv_analytical)+ \" and the fit curvature is: \" + str(Curv_fit))"
   ]
  },
  {
   "cell_type": "markdown",
   "metadata": {},
   "source": [
    "This makes a much bigger difference. "
   ]
  },
  {
   "cell_type": "markdown",
   "metadata": {},
   "source": [
    "What about some samples from the San Gabriels. Assume the lowest D, wich was 0.003 m^3/yr"
   ]
  },
  {
   "cell_type": "code",
   "execution_count": 17,
   "metadata": {},
   "outputs": [
    {
     "name": "stdout",
     "output_type": "stream",
     "text": [
      "Calculating curvature from input parameters: -0.072\n",
      "The analytical curvature from the the hillslope toy is: -0.072 and the fit curvature is: -0.06922382929311906\n"
     ]
    }
   ],
   "source": [
    "Uplift = 0.000108\n",
    "Transport_coefficient = 0.003\n",
    "Critical_slope = 1\n",
    "Density_ratio = 2\n",
    "z = ht.ss_nonlinear_elevation(x,S_c = Critical_slope,C_0 = Uplift ,D = Transport_coefficient ,rho_ratio = Density_ratio ,c =20)\n",
    "z = ht.set_channel_to_zero(z)\n",
    "C_direct = -(Uplift/Transport_coefficient)*(Density_ratio)\n",
    "print(\"Calculating curvature from input parameters: \"+ str(C_direct))\n",
    "\n",
    "# This is the analytical solution:\n",
    "Curv_analytical = ht.ss_nonlinear_hilltop_curvature(C_0 = Uplift, D = Transport_coefficient, rho_ratio =Density_ratio)\n",
    "\n",
    "# This is the polynomial fit:\n",
    "Curv_fit = ht.fit_hilltop_curvature(x,z)\n",
    "\n",
    "print(\"The analytical curvature from the the hillslope toy is: \" + str(Curv_analytical)+ \" and the fit curvature is: \" + str(Curv_fit))"
   ]
  },
  {
   "cell_type": "markdown",
   "metadata": {},
   "source": [
    "Now try idaho, unsing the lowest D combined with the highest E"
   ]
  },
  {
   "cell_type": "code",
   "execution_count": null,
   "metadata": {},
   "outputs": [],
   "source": [
    "Uplift = 0.000119\n",
    "Transport_coefficient = 0.0028\n",
    "Critical_slope = 1\n",
    "Density_ratio = 2\n",
    "z = ht.ss_nonlinear_elevation(x,S_c = Critical_slope,C_0 = Uplift ,D = Transport_coefficient ,rho_ratio = Density_ratio ,c =20)\n",
    "z = ht.set_channel_to_zero(z)\n",
    "C_direct = -(Uplift/Transport_coefficient)*(Density_ratio)\n",
    "print(\"Calculating curvature from input parameters: \"+ str(C_direct))\n",
    "\n",
    "# This is the analytical solution:\n",
    "Curv_analytical = ht.ss_nonlinear_hilltop_curvature(C_0 = Uplift, D = Transport_coefficient, rho_ratio =Density_ratio)\n",
    "\n",
    "# This is the polynomial fit:\n",
    "Curv_fit = ht.fit_hilltop_curvature(x,z)\n",
    "\n",
    "print(\"The analytical curvature from the the hillslope toy is: \" + str(Curv_analytical)+ \" and the fit curvature is: \" + str(Curv_fit))"
   ]
  },
  {
   "cell_type": "markdown",
   "metadata": {},
   "source": [
    "Feather river, assuming D of 0.0027. We do in sucession the 2nd and fastest eroding site"
   ]
  },
  {
   "cell_type": "code",
   "execution_count": 19,
   "metadata": {},
   "outputs": [
    {
     "name": "stdout",
     "output_type": "stream",
     "text": [
      "Calculating curvature from input parameters: -0.09185185185185185\n",
      "The analytical curvature from the the hillslope toy is: -0.09185185185185185 and the fit curvature is: -0.08639427015691267\n"
     ]
    }
   ],
   "source": [
    "Uplift = 0.000124\n",
    "Transport_coefficient = 0.0027\n",
    "Critical_slope = 1\n",
    "Density_ratio = 2\n",
    "z = ht.ss_nonlinear_elevation(x,S_c = Critical_slope,C_0 = Uplift ,D = Transport_coefficient ,rho_ratio = Density_ratio ,c =20)\n",
    "z = ht.set_channel_to_zero(z)\n",
    "C_direct = -(Uplift/Transport_coefficient)*(Density_ratio)\n",
    "print(\"Calculating curvature from input parameters: \"+ str(C_direct))\n",
    "\n",
    "# This is the analytical solution:\n",
    "Curv_analytical = ht.ss_nonlinear_hilltop_curvature(C_0 = Uplift, D = Transport_coefficient, rho_ratio =Density_ratio)\n",
    "\n",
    "# This is the polynomial fit:\n",
    "Curv_fit = ht.fit_hilltop_curvature(x,z)\n",
    "\n",
    "print(\"The analytical curvature from the the hillslope toy is: \" + str(Curv_analytical)+ \" and the fit curvature is: \" + str(Curv_fit))"
   ]
  },
  {
   "cell_type": "code",
   "execution_count": 20,
   "metadata": {},
   "outputs": [
    {
     "name": "stdout",
     "output_type": "stream",
     "text": [
      "Calculating curvature from input parameters: -0.1733333333333333\n",
      "The analytical curvature from the the hillslope toy is: -0.1733333333333333 and the fit curvature is: -0.14550393697851613\n"
     ]
    }
   ],
   "source": [
    "Uplift = 0.000234\n",
    "Transport_coefficient = 0.0027\n",
    "Critical_slope = 1\n",
    "Density_ratio = 2\n",
    "z = ht.ss_nonlinear_elevation(x,S_c = Critical_slope,C_0 = Uplift ,D = Transport_coefficient ,rho_ratio = Density_ratio ,c =20)\n",
    "z = ht.set_channel_to_zero(z)\n",
    "C_direct = -(Uplift/Transport_coefficient)*(Density_ratio)\n",
    "print(\"Calculating curvature from input parameters: \"+ str(C_direct))\n",
    "\n",
    "# This is the analytical solution:\n",
    "Curv_analytical = ht.ss_nonlinear_hilltop_curvature(C_0 = Uplift, D = Transport_coefficient, rho_ratio =Density_ratio)\n",
    "\n",
    "# This is the polynomial fit:\n",
    "Curv_fit = ht.fit_hilltop_curvature(x,z)\n",
    "\n",
    "print(\"The analytical curvature from the the hillslope toy is: \" + str(Curv_analytical)+ \" and the fit curvature is: \" + str(Curv_fit))"
   ]
  },
  {
   "cell_type": "markdown",
   "metadata": {},
   "source": [
    "A bit of a bigger difference here..."
   ]
  },
  {
   "cell_type": "code",
   "execution_count": null,
   "metadata": {},
   "outputs": [],
   "source": []
  }
 ],
 "metadata": {
  "kernelspec": {
   "display_name": "Python 3",
   "language": "python",
   "name": "python3"
  },
  "language_info": {
   "codemirror_mode": {
    "name": "ipython",
    "version": 3
   },
   "file_extension": ".py",
   "mimetype": "text/x-python",
   "name": "python",
   "nbconvert_exporter": "python",
   "pygments_lexer": "ipython3",
   "version": "3.8.3"
  }
 },
 "nbformat": 4,
 "nbformat_minor": 4
}
